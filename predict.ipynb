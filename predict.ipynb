{
 "cells": [
  {
   "cell_type": "code",
   "execution_count": 3,
   "id": "70bdd52a-1eaf-4acb-8e52-9e4ad9072cb0",
   "metadata": {},
   "outputs": [],
   "source": [
    "import pickle\n",
    "\n",
    "with open(\"model.sav\", 'rb') as file:\n",
    "    model = pickle.load(file)"
   ]
  },
  {
   "cell_type": "code",
   "execution_count": 33,
   "id": "4c5320a1-f6c6-4b7f-b2ff-064fdb7cac17",
   "metadata": {},
   "outputs": [],
   "source": [
    "import pandas as pd\n",
    "\n",
    "data = {\n",
    "    'BMI':[29.3],\n",
    "    'Smoking':[1],\n",
    "    'AlcoholDrinking':[0],\n",
    "    'Stroke':[0],\n",
    "    'PhysicalHealth':[25],\n",
    "    'MentalHealth':[10],\n",
    "    'DiffWalking':[1],\n",
    "    'Sex':[1],\n",
    "    'AgeCategory':[12],\n",
    "    'Race':[3],\n",
    "    'Diabetic':[0],\n",
    "    'PhysicalActivity':[0],\n",
    "    'GenHealth':[4],\n",
    "    'SleepTime':[8],\n",
    "    'Asthma':[0],\n",
    "    'KidneyDisease':[1],\n",
    "    'SkinCancer':[0]\n",
    "    }\n",
    "data = pd.DataFrame(data=data)"
   ]
  },
  {
   "cell_type": "code",
   "execution_count": 34,
   "id": "4d684d19-7a53-463c-9d2c-9169026ef470",
   "metadata": {},
   "outputs": [
    {
     "name": "stdout",
     "output_type": "stream",
     "text": [
      "{'prediction of heart disease': array([1], dtype=int64)}\n"
     ]
    }
   ],
   "source": [
    "prediction = model.predict(data)\n",
    "result = {'prediction of heart disease': prediction}\n",
    "print(result)"
   ]
  },
  {
   "cell_type": "code",
   "execution_count": null,
   "id": "989ac1d4-4f04-45b4-92c8-3638e58475e7",
   "metadata": {},
   "outputs": [],
   "source": []
  }
 ],
 "metadata": {
  "kernelspec": {
   "display_name": "projects",
   "language": "python",
   "name": "projects"
  },
  "language_info": {
   "codemirror_mode": {
    "name": "ipython",
    "version": 3
   },
   "file_extension": ".py",
   "mimetype": "text/x-python",
   "name": "python",
   "nbconvert_exporter": "python",
   "pygments_lexer": "ipython3",
   "version": "3.9.15"
  }
 },
 "nbformat": 4,
 "nbformat_minor": 5
}
